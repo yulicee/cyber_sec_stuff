{
 "cells": [
  {
   "cell_type": "markdown",
   "id": "99aca20c-31f8-466e-b377-7e364c6d02ac",
   "metadata": {},
   "source": [
    "# Automated HTTP Service and Directory Brute Forcing Tool\n",
    "\n",
    "- performs a network scan using nmap to identify open HTTP services on specified ports\n",
    "- runs gobuster to brute force directories on the discovered HTTP services\n",
    "- results are parsed and displayed for further analysis\n",
    "\n",
    "### Run the program\n",
    "python script_name.py example.com -w /path/to/wordlist.txt -o results.json"
   ]
  },
  {
   "cell_type": "markdown",
   "id": "828406a7-635e-4088-80cf-d558db703e70",
   "metadata": {},
   "source": [
    "### Imported libraries"
   ]
  },
  {
   "cell_type": "code",
   "execution_count": null,
   "id": "842effdd-b158-49cd-b55a-808803c9fc60",
   "metadata": {},
   "outputs": [],
   "source": [
    "import argparse\n",
    "import json\n",
    "import re\n",
    "import subprocess"
   ]
  },
  {
   "cell_type": "markdown",
   "id": "4354d336-38f9-457e-9123-49af838024db",
   "metadata": {},
   "source": [
    "- **argparse** for parsing command-line arguments \n",
    "- **subprocess module** runs external commands\n",
    "- **re module** for use of regular expressions\n",
    "- **json module** for handling JSON data"
   ]
  },
  {
   "cell_type": "markdown",
   "id": "5db81da6-dc26-4480-a55c-697f1fb825e3",
   "metadata": {},
   "source": [
    "### The 'run_nmap' function"
   ]
  },
  {
   "cell_type": "code",
   "execution_count": null,
   "id": "25be69e7-20f6-4412-b935-6310c91398e7",
   "metadata": {},
   "outputs": [],
   "source": [
    "def run_nmap(target):\n",
    "    command = ['nmap', '-p-', '--open', '-sV', target]\n",
    "    result = subprocess.run(command, stdout=subprocess.PIPE, stderr=subprocess.PIPE, text=True)\n",
    "    if result.returncode != 0:\n",
    "        print(f\"Error running nmap: {result.stderr}\")\n",
    "        return None\n",
    "    return result.stdout"
   ]
  },
  {
   "cell_type": "markdown",
   "id": "a5abf5ca-285a-4ca6-9a23-567489ca0add",
   "metadata": {},
   "source": [
    "### Command construction\n",
    "- **-p-** tells nmap to scan all TCP ports on the target\n",
    "- **--open** instructs nmap to show only open ports\n",
    "- **-sV** enables service version detection\n",
    "    - attempts to determine the version of the services running on open ports\n",
    "    - provides more detailed information about the services, such as the application name and version\n",
    "- **target** specifies the IP address or hostname of the system you want to scan\n",
    "    - this parameter is passed dynamically to the function\n",
    "\n",
    "### Error handling\n",
    "- **result.returncode** holds the exit status of the nmap command\n",
    "    - return code of 0 typically indicates successful execution, while non-zero codes indicate errors\n",
    "- **result.stderr** contains any error messages produced by nmap\n",
    "    - if the command fails (i.e., returncode is not 0), the error message is printed\n",
    "\n",
    "### Returning the output\n",
    "- **result.stdout** contains the standard output of the command (i.e., the result of the nmap scan) for further processing"
   ]
  },
  {
   "cell_type": "markdown",
   "id": "6436e048-83cb-44cc-90ca-818a32d05c09",
   "metadata": {},
   "source": [
    "### The 'parse_nmap_output' function"
   ]
  },
  {
   "cell_type": "code",
   "execution_count": null,
   "id": "12afa4f0-a71c-41a7-8f35-d1d2f0afa879",
   "metadata": {},
   "outputs": [],
   "source": [
    "def parse_nmap_output(output):\n",
    "    http_ports = []\n",
    "    for line in output.splitlines():\n",
    "        if re.search(r\"http\\b\", line, re.IGNORECASE):\n",
    "            port_match = re.search(r\"(\\d+)/tcp\", line)\n",
    "            if port_match:\n",
    "                http_ports.append(port_match.group(1))\n",
    "    return http_ports"
   ]
  },
  {
   "cell_type": "markdown",
   "id": "fc7af776-45a3-49c8-9a05-0ad99213a26a",
   "metadata": {},
   "source": [
    "### Initialize list\n",
    "- **http_ports** initializes an empty list that will be used to store port numbers where http services are detected\n",
    "\n",
    "### Process each line of output\n",
    "- **output.splitlines()** splits the nmap scan output into individual lines\n",
    "    - allows the function to process each line separately\n",
    "    - is useful for iterating through the output line-by-line\n",
    "\n",
    "### Search for http Services\n",
    "- **re.search(r\"http\\b\", line, re.IGNORECASE)** uses a regular expression to search for the substring \"http\" in the line\n",
    "    - the \\b ensures that \"http\" is matched as a whole word, not as part of another word (e.g., \"https\")\n",
    "    - the re.IGNORECASE flag makes the search case-insensitive\n",
    "    - if \"http\" is found in the line, it indicates that the line likely describes an http service\n",
    "\n",
    "### Extract port number\n",
    "- **re.search(r\"(\\d+)/tcp\", line)** uses a regular expression to find port numbers in the line\n",
    "    - (\\d+) matches one or more digits (the port number), and /tcp specifies that the port is a TCP port\n",
    "    - this pattern extracts the port number from lines indicating open TCP ports\n",
    "\n",
    "### Add Port to List\n",
    "- **port_match.group(1)** retrieves the port number matched by the first capturing group in the regular expression\n",
    "- **append()** adds this port number to the http_ports list\n",
    "\n",
    "### Return list of http ports\n",
    "- **return http_ports** returns the list of port numbers where http services were detected"
   ]
  },
  {
   "cell_type": "markdown",
   "id": "fd80ff30-cced-418b-af7d-9ea2226daff3",
   "metadata": {},
   "source": [
    "### The 'run_gobuster' function"
   ]
  },
  {
   "cell_type": "code",
   "execution_count": null,
   "id": "31391b0a-964f-49c7-8f4d-1a0455ef7cb5",
   "metadata": {},
   "outputs": [],
   "source": [
    "def run_gobuster(target, port, wordlist):\n",
    "    url = f\"http://{target}:{port}\"\n",
    "    result = subprocess.run(['gobuster', 'dir', '-u', url, '-w', wordlist], stdout=subprocess.PIPE, stderr=subprocess.PIPE, text=True)\n",
    "    if result.returncode != 0:\n",
    "        print(f\"Error running gobuster on {url}: {result.stderr}\")\n",
    "        return None\n",
    "    return result.stdout"
   ]
  },
  {
   "cell_type": "markdown",
   "id": "fe752784-90a4-4c2f-bea7-ee8b09f4114f",
   "metadata": {},
   "source": [
    "### Construct URL\n",
    "\n",
    "- **url** constructs the URL to be scanned by gobuster using the provided target (domain or IP address) and port\n",
    "    - the URL is formatted as http://target:port, where target is the hostname or IP address and port is the port number\n",
    "\n",
    "### Execute gobuster command\n",
    "- **subprocess.run** is used to execute the gobuster command in a subprocess\n",
    "    - waits for the command to complete and then returns a CompletedProcess instance\n",
    "- **arguments**:\n",
    "    - dir: mode of operation for gobuster, indicating directory brute-forcing.\n",
    "    - -u: specifies the URL to scan, in this case, it is the URL constructed from the target and port\n",
    "    - url: full URL of the target to scan (e.g., http://example.com:80)\n",
    "    - -w: specifies the path to the wordlist used for brute-forcing directories\n",
    "    - wordlist: path to the file containing a list of directory names to be tested\n",
    "\n",
    "- **stdout=subprocess.PIPE** redirects the standard output (stdout) of the gobuster command to a pipe\n",
    "    - allows capturing the output for further processing.\n",
    "- **stderr=subprocess.PIPE** redirects the standard error (stderr) of the gobuster command to a pipe\n",
    "    - allows capturing any error messages.\n",
    "- **text=True** ensures the output is returned as a string rather than bytes, making it easier to handle and process\n",
    "\n",
    "### Error handling\n",
    "- **result.returncode** holds the exit status of the gobuster command\n",
    "    - return code of 0 indicates successful execution, while non-zero codes indicate errors\n",
    "- **result.stderr** contains any error messages generated by gobuste\n",
    "    - if the command fails (i.e., returncode is not 0), the error message is printed.\n",
    "\n",
    "### Return output\n",
    "- **result.stdout** contains the standard output of the gobuster command\n",
    "    - includes the results of the directory brute-forcing operation, which is returned for further processing or display"
   ]
  },
  {
   "cell_type": "markdown",
   "id": "253f78d7-51d8-44a4-97ac-fcf31af1d61a",
   "metadata": {},
   "source": [
    "### The main function"
   ]
  },
  {
   "cell_type": "code",
   "execution_count": null,
   "id": "e12b3b7f-3121-42f8-b07a-3b0a8e5f2374",
   "metadata": {},
   "outputs": [],
   "source": [
    "def main(target, wordlist, output_file=None):\n",
    "    \"\"\"Main function to run the nmap scan, parse results, and run gobuster on HTTP ports.\"\"\"\n",
    "    nmap_output = run_nmap(target)\n",
    "    if not nmap_output:\n",
    "        print(\"Nmap scan failed.\")\n",
    "        return\n",
    "\n",
    "    http_ports = parse_nmap_output(nmap_output)\n",
    "    if not http_ports:\n",
    "        print(\"No HTTP services found.\")\n",
    "        return\n",
    "\n",
    "    results = {}\n",
    "    for port in http_ports:\n",
    "        print(f\"Starting gobuster on {target}:{port}\")\n",
    "        gobuster_output = run_gobuster(target, port, wordlist)\n",
    "        if gobuster_output:\n",
    "            results[port] = gobuster_output\n",
    "\n",
    "    if output_file:\n",
    "        with open(output_file, 'w') as f:\n",
    "            json.dump(results, f, indent=4)\n",
    "        print(f\"Results saved to {output_file}.\")\n",
    "    else:\n",
    "        print(\"Scan results:\")\n",
    "        for port, output in results.items():\n",
    "            print(f\"Port {port}:\\n{output}\")\n",
    "\n",
    "    return results\n",
    "\n",
    "if __name__ == \"__main__\":\n",
    "    parser = argparse.ArgumentParser(description=\"Automated tool for scanning HTTP services and directory brute-forcing.\")\n",
    "    parser.add_argument(\"target\", help=\"Target IP address or domain\")\n",
    "    parser.add_argument(\"-w\", \"--wordlist\", required=True, help=\"Path to the wordlist file for Gobuster\")\n",
    "    parser.add_argument(\"-o\", \"--output\", help=\"File path to save results. Leave blank to print to console.\")\n",
    "\n",
    "    args = parser.parse_args()\n",
    "    main(args.target, args.wordlist, args.output)"
   ]
  },
  {
   "cell_type": "markdown",
   "id": "61c7cfd3-2634-4f53-bcd7-57d856ebe150",
   "metadata": {},
   "source": [
    "### Run nmap scan\n",
    "- **run_nmap(target)** calls the run_nmap function to perform a scan on the target\n",
    "    - returns the output of the scan\n",
    "- **if not nmap_output** checks if the nmap scan failed (i.e., no output was returned)\n",
    "    - if so, prints an error message and exits the function\n",
    "\n",
    "### Parse nmap output\n",
    "- **parse_nmap_output(nmap_output)** calls the parse_nmap_output function to extract HTTP ports from the nmap scan output\n",
    "- **if not http_ports** checks if no http ports were found\n",
    "    - if so, prints a message indicating that no http services were detected and exits the function\n",
    "\n",
    "### Run gobuster on http ports\n",
    "- **results = {}** initializes an empty dictionary to store the results of the gobuster scans\n",
    "- **for port in http ports** iterates over each port that was identified as having an http service\n",
    "- **run_gobuster(target, port, wordlist)** calls the run_gobuster function to perform directory brute-forcing on the current http port\n",
    "- **if gobuster_output** checks if the gobuster command produced output\n",
    "    - if so, stores the output in the results dictionary with the port number as the key\n",
    "\n",
    "### Save or print results\n",
    "- **if output_file** checks if an output_file argument was provided\n",
    "    - **with open(output_file, 'w') as f** opens the specified file in write mode\n",
    "    - **json.dump(results, f, indent=4)** writes the results dictionary to the file in JSON format with an indentation of 4 spaces for readability\n",
    "    - **print(f\"Results saved to {output_file}.\")** prints a message indicating that the results were saved to the specified file\n",
    "\n",
    "- **else** no output_file was provided, the results are printed to the console\n",
    "    - **for port, output in results.items()** iterates over each port and its corresponding gobuster output\n",
    "    - **print(f\"Results for {target}:{port}\")** prints a header for the results of the current port\n",
    "    - **print(output)** prints the gobuster output for the current port\n",
    "\n",
    "### Return Results\n",
    "- **return results** returns the results dictionary, which contains the gobuster output for each http port\n",
    "    - allows further processing or inspection if needed.\n",
    "\n",
    "### Command-line argument parsing\n",
    "- **if __name__ == \"__main__\"** ensures the code block is executed only if the script is run directly, not when it is imported as a module in another script\n",
    "- **argparse.ArgumentParser()** creates an instance of the ArgumentParser class, which is used to handle command-line arguments\n",
    "    - **description** is a brief description of what the script does\n",
    "        - will be displayed when the user runs the script with the --help option\n",
    "- **parser.add_argument(\"target\", ...)** defines a positional argument for the script\n",
    "    - **target** is the name of the argument\n",
    "    - **help** provides a description of what the argument represents\n",
    "- **parser.add_argument(\"-w\", \"--wordlist\", ...)** defines an optional argument with flags\n",
    "    - **-w, --wordlist** are short (-w) and long (--wordlist) flags for the argument\n",
    "    - **required=True** indicates that this argument is mandatory\n",
    "    - **help** provides a description of what this argument does, shown in the help message\n",
    "- **parser.add_argument(\"-o\", \"--output\", ...)** defines another optional argument with flags\n",
    "    - **-o, --output** are short (-o) and long (--output) flags for the argument\n",
    "    - **help** provides a description of the argument, explaining that if this argument is not provided, results will be printed to the console instead\n",
    "- **parser.parse_args()** parses the command-line arguments and returns an object containing the parsed arguments as attributes\n",
    "- **main(args.target, args.wordlist, args.output)** calls the main function with the parsed arguments\n",
    "    - **args.target** is the target IP address or domain\n",
    "    - **args.wordlist** is the path to the gobuster wordlist file\n",
    "    - **args.output** is the file path to save results, or None if results are to be printed to the console\n"
   ]
  }
 ],
 "metadata": {
  "kernelspec": {
   "display_name": "Python 3 (ipykernel)",
   "language": "python",
   "name": "python3"
  },
  "language_info": {
   "codemirror_mode": {
    "name": "ipython",
    "version": 3
   },
   "file_extension": ".py",
   "mimetype": "text/x-python",
   "name": "python",
   "nbconvert_exporter": "python",
   "pygments_lexer": "ipython3",
   "version": "3.12.1"
  }
 },
 "nbformat": 4,
 "nbformat_minor": 5
}
